{
 "cells": [
  {
   "cell_type": "code",
   "execution_count": 1,
   "id": "d51b2f53-8db1-4b57-baea-2982960a2181",
   "metadata": {},
   "outputs": [],
   "source": [
    "import cv2\n",
    "import matplotlib.pyplot as plt\n",
    "import numpy as np"
   ]
  },
  {
   "cell_type": "code",
   "execution_count": 2,
   "id": "59184f9a-4256-4a19-b6f5-21cb8743a801",
   "metadata": {},
   "outputs": [],
   "source": [
    "def resize_and_cut_image(image, new_width=800):\n",
    "    new_image = image\n",
    "    height, width = image.shape[:2]\n",
    "    if width > new_width:\n",
    "        aspect_ratio = height / float(width)\n",
    "        new_height = int(new_width * aspect_ratio)\n",
    "        new_image = cv2.resize(image, (new_width, new_height), interpolation=cv2.INTER_AREA)\n",
    "\n",
    "    new_image = image[int(height/3):, 0:width]\n",
    "    return new_image"
   ]
  },
  {
   "cell_type": "code",
   "execution_count": 3,
   "id": "dd1b4ad6-a450-4743-9e43-c86e3372bf01",
   "metadata": {},
   "outputs": [],
   "source": [
    "def filter_image(image):\n",
    "    filtered_image = cv2.GaussianBlur(image, (3, 3), 0)\n",
    "    kernel = np.array([[0, -1, 0],\n",
    "                       [-1, 5, -1],\n",
    "                       [0, -1, 0]])\n",
    "    sharpened_image = cv2.filter2D(filtered_image, -1, kernel)\n",
    "\n",
    "    return sharpened_image"
   ]
  },
  {
   "cell_type": "code",
   "execution_count": 4,
   "id": "bd821fe3-39bd-4128-93cb-cae3cec0271a",
   "metadata": {},
   "outputs": [],
   "source": [
    "def load_and_preprocess_image(image_path):\n",
    "    image = cv2.imread(image_path)\n",
    "    if image is None:\n",
    "        raise ValueError(\"Could not load the image. Check image path\")\n",
    "\n",
    "    new_image = resize_and_cut_image(image)\n",
    "    gray_image = cv2.cvtColor(new_image, cv2.COLOR_BGR2GRAY)\n",
    "    filtered_image = filter_image(gray_image)\n",
    "    \n",
    "    return new_image, filtered_image"
   ]
  },
  {
   "cell_type": "code",
   "execution_count": 5,
   "id": "5008ec63-9341-44f8-8447-085474aa9c3b",
   "metadata": {},
   "outputs": [],
   "source": [
    "def get_contours(image):\n",
    "    edges = cv2.Canny(image, 50, 150, L2gradient=True)\n",
    "    contours, _ = cv2.findContours(edges, cv2.RETR_EXTERNAL, cv2.CHAIN_APPROX_SIMPLE)\n",
    "\n",
    "    return contours"
   ]
  },
  {
   "cell_type": "code",
   "execution_count": 6,
   "id": "7fcc5fbf-fa58-4fed-970f-8fe3d6a1618d",
   "metadata": {},
   "outputs": [],
   "source": [
    "def get_plate(image, contours):\n",
    "    sorted_contours = sorted(contours, key=cv2.contourArea, reverse=True)\n",
    "    potentital_plate = None\n",
    "    if len(sorted_contours) > 0:\n",
    "        contour = sorted_contours[0]\n",
    "        x, y, w, h = cv2.boundingRect(contour)\n",
    "        \n",
    "        aspect_ratio = w / float(h)\n",
    "        area = cv2.contourArea(contour)\n",
    "        \n",
    "        if 3.0 <= aspect_ratio <= 6.0 and 1000 < area < 300000:\n",
    "            potential_plate = contour\n",
    "\n",
    "    if potential_plate is not None:\n",
    "        x, y, w, h = cv2.boundingRect(potential_plate)\n",
    "        license_plate = image[y:y+h, x:x+w]\n",
    "\n",
    "        return license_plate\n",
    "\n",
    "    raise ValueError(\"Could not find a license plate\")"
   ]
  },
  {
   "cell_type": "code",
   "execution_count": null,
   "id": "8c216b28-1c51-433d-8b82-32879c0bae5c",
   "metadata": {},
   "outputs": [],
   "source": [
    "for i in range(11):\n",
    "    image, gray_image = load_and_preprocess_image(f\"car_image_{10}.jpg\")\n",
    "    contours = get_contours(gray_image)\n",
    "    plate = get_plate(image, contours)\n",
    "\n",
    "    cv2.imshow(\"\", plate)\n",
    "    cv2.waitKey(0)\n",
    "    cv2.destroyAllWindows()"
   ]
  }
 ],
 "metadata": {
  "kernelspec": {
   "display_name": "Python 3 (ipykernel)",
   "language": "python",
   "name": "python3"
  },
  "language_info": {
   "codemirror_mode": {
    "name": "ipython",
    "version": 3
   },
   "file_extension": ".py",
   "mimetype": "text/x-python",
   "name": "python",
   "nbconvert_exporter": "python",
   "pygments_lexer": "ipython3",
   "version": "3.10.12"
  }
 },
 "nbformat": 4,
 "nbformat_minor": 5
}
