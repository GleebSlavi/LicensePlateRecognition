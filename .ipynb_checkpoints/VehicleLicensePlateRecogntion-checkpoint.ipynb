{
 "cells": [
  {
   "cell_type": "code",
   "execution_count": 1,
   "id": "837ddaf3-1afd-4fd4-9472-df8e57797253",
   "metadata": {},
   "outputs": [],
   "source": [
    "import cv2\n",
    "import numpy as np\n",
    "import matplotlib.pyplot as plt"
   ]
  },
  {
   "cell_type": "code",
   "execution_count": 2,
   "id": "98a4be70-d60b-4913-a231-79abaa172a04",
   "metadata": {},
   "outputs": [],
   "source": [
    "def load_and_prepare_image(image_path):\n",
    "    image = cv2.imread(image_path)\n",
    "    if image is None:\n",
    "        raise ValueError(\"Could not load image. Check path!\")\n",
    "\n",
    "    max_width = 1200\n",
    "    height, width = image.shape[:2]\n",
    "    if width > max_width:\n",
    "        scale = max_width / width\n",
    "        dimensions = (max_width, int(height * scale))\n",
    "        image = cv2.resize(image, dimensions, interpolation=cv2.INTER_LINEAR)\n",
    "\n",
    "    grayscale_image = cv2.cvtColor(image, cv2.COLOR_BGR2GRAY)\n",
    "    return grayscale_image"
   ]
  },
  {
   "cell_type": "code",
   "execution_count": 3,
   "id": "80bd6766-102f-4b57-a29a-b97c232202b6",
   "metadata": {},
   "outputs": [],
   "source": [
    "def get_contours(image):\n",
    "    filtered_image = cv2.GaussianBlur(image, (5, 5), 0)\n",
    "    _, binarized_image = cv2.threshold(filtered_image, 0, 255, cv2.THRESH_BINARY + cv2.THRESH_OTSU)\n",
    "    edges = cv2.Canny(binarized_image, 100, 200, L2gradient=True)\n",
    "    contours, _ = cv2.findContours(edges, cv2.RETR_EXTERNAL, cv2.CHAIN_APPROX_SIMPLE)\n",
    "\n",
    "    return contours"
   ]
  },
  {
   "cell_type": "code",
   "execution_count": 4,
   "id": "990cc895-77f1-497e-b1f6-15990706ae43",
   "metadata": {},
   "outputs": [],
   "source": [
    "# def filter_contours(contours, half_image_area, image):\n",
    "#     for i, contour in enumerate(contours):\n",
    "#         area = cv2.contourArea(contour)\n",
    "#         # if area < 1000 or area > half_image_area:\n",
    "#         #     continue\n",
    "\n",
    "#         epsilon = 0.02 * cv2.arcLength(contour, True)\n",
    "#         approx = cv2.approxPolyDP(contour, epsilon, True)\n",
    "\n",
    "#         #if len(approx) == 4:\n",
    "#         temp_image = cv2.cvtColor(image, cv2.COLOR_GRAY2BGR)\n",
    "#         cv2.drawContours(temp_image, [contour], -1, (0, 0, 255), 2)\n",
    "#         cv2.imshow(f\"{i}, {area}\", temp_image)\n",
    "#         cv2.waitKey(0)\n",
    "#         cv2.destroyAllWindows()"
   ]
  },
  {
   "cell_type": "code",
   "execution_count": null,
   "id": "16a6f2ea-e131-48b9-8c8f-d2ef6137d074",
   "metadata": {},
   "outputs": [],
   "source": [
    "image = load_and_prepare_image(\"car_image_7.jpg\")\n",
    "contours = get_contours(image)\n",
    "\n",
    "color_image = cv2.cvtColor(image, cv2.COLOR_GRAY2RGB)\n",
    "cv2.drawContours(color_image, contours, -1, (0, 0, 255), 2)\n",
    "cv2.imshow(\"\", color_image)\n",
    "cv2.waitKey(0)\n",
    "cv2.destroyAllWindows()\n",
    "#filter_contours(contours, image.shape[0] * image.shape[1] * 0.5, image)"
   ]
  },
  {
   "cell_type": "code",
   "execution_count": null,
   "id": "d4bf324c-1b19-4f61-8293-acac8b00105e",
   "metadata": {},
   "outputs": [],
   "source": [
    "# def calculate_area_thresholds(image, min_fraction=0.01, max_fraction=0.2):\n",
    "#     image_area = image.shape[0] * image.shape[1]\n",
    "#     min_area = min_fraction * image_area\n",
    "#     max_area = max_fraction * image_area\n",
    "\n",
    "#     return min_area, max_area"
   ]
  },
  {
   "cell_type": "code",
   "execution_count": null,
   "id": "505acb73-fdd0-43bc-84b3-d64e2a4b4f8d",
   "metadata": {},
   "outputs": [],
   "source": [
    "# def get_image_contours(image):\n",
    "#     edges = cv2.Canny(image, 250, 800)\n",
    "\n",
    "#     min_area, max_area = calculate_area_thresholds(edges)\n",
    "#     contours, _ = cv2.findContours(edges, cv2.RETR_TREE, cv2.CHAIN_APPROX_SIMPLE)\n",
    "\n",
    "#     print(min_area)\n",
    "#     print(max_area)\n"
   ]
  },
  {
   "cell_type": "code",
   "execution_count": null,
   "id": "fd3e7215-dcf9-480e-b083-c27ab329bc58",
   "metadata": {},
   "outputs": [],
   "source": [
    "# image = prepare_image(\"car_image_7.jpg\")\n",
    "# get_image_contours(image)"
   ]
  },
  {
   "cell_type": "code",
   "execution_count": null,
   "id": "92084026-5710-4fdc-839c-958eaa8a2439",
   "metadata": {},
   "outputs": [],
   "source": []
  },
  {
   "cell_type": "code",
   "execution_count": null,
   "id": "63ff6d5b-1b15-47dc-af3c-cde1468ecef9",
   "metadata": {},
   "outputs": [],
   "source": [
    "# contours, _ = cv2.findContours(edges, cv2.RETR_TREE, cv2.CHAIN_APPROX_SIMPLE)\n",
    "# sorted_contours = sorted(contours, key=cv2.contourArea, reverse=True)\n",
    "\n",
    "# # potential_plate = None\n",
    "# # contours_count = len(sorted_contours)\n",
    "# # if contours_count > 1:\n",
    "# #     potential_plate = sorted_contours[1]\n",
    "# # elif contours_count > 0:\n",
    "# #     potential_plate = sorted_contours[0]\n",
    "# # else:\n",
    "# #     print(\"No contours found\")\n",
    "\n",
    "# potential_plate = None\n",
    "# for i, contour in enumerate(sorted_contours):\n",
    "#     x, y, w, h = cv2.boundingRect(contour)\n",
    "#     aspect_ratio = w / h\n",
    "#     area = cv2.contourArea(contour)\n",
    "    \n",
    "#     if 2 < aspect_ratio < 6: # 10000 < area < 50000:\n",
    "#         temp_image = image.copy()\n",
    "#         cv2.drawContours(temp_image, [contour], -1, (255, 0, 0), 2)\n",
    "#         cv2.imshow(f\"{i}, {area}\", temp_image)\n",
    "#         cv2.waitKey(0)\n",
    "#         cv2.destroyAllWindows()\n",
    "#         #potential_plate = contour\n",
    "#         #break\n"
   ]
  },
  {
   "cell_type": "code",
   "execution_count": null,
   "id": "5e79d222-e754-4c57-b088-0db255c862d3",
   "metadata": {},
   "outputs": [],
   "source": [
    "# license_plate = None\n",
    "# if potential_plate is not None:\n",
    "#     x, y, w, h = cv2.boundingRect(potential_plate)\n",
    "#     license_plate = filtered_image[y:y+h, x:x+w]\n",
    "#     cv2.imshow(\"\", license_plate)\n",
    "#     cv2.waitKey(0)\n",
    "#     cv2.destroyAllWindows()\n",
    "# else:\n",
    "#     print(\"Could not find a license plate\")"
   ]
  }
 ],
 "metadata": {
  "kernelspec": {
   "display_name": "Python 3 (ipykernel)",
   "language": "python",
   "name": "python3"
  },
  "language_info": {
   "codemirror_mode": {
    "name": "ipython",
    "version": 3
   },
   "file_extension": ".py",
   "mimetype": "text/x-python",
   "name": "python",
   "nbconvert_exporter": "python",
   "pygments_lexer": "ipython3",
   "version": "3.10.12"
  }
 },
 "nbformat": 4,
 "nbformat_minor": 5
}
